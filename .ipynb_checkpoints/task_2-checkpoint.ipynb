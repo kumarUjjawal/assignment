{
 "cells": [
  {
   "cell_type": "markdown",
   "metadata": {},
   "source": [
    "## Assignment for NLP & Python Development Internship "
   ]
  },
  {
   "cell_type": "markdown",
   "metadata": {},
   "source": [
    "#### Directed Graph\n",
    "\n",
    "##### Task\n",
    "Find the minimum lenght cycle in a directd graph."
   ]
  },
  {
   "cell_type": "markdown",
   "metadata": {},
   "source": [
    "1. Initialize a dictionary ‘marked’ that tells us whether a node has been visited.\n",
    "2. Initialize a dictionary ‘color’ that tells us whether a node is “white”, “gray” or “black”.\n",
    "3. We visit all nodes.\n",
    "4. Everytime we visit a node u we color it “gray” indicating that the node is part of our current path.\n",
    "5. We visit the neighbors of u that are “white”, i.e. those nodes that have not been visited yet.\n",
    "6. If we visit a neighbor node v that is colored “gray”, then a cycle exists. Otherwise, if we don’t find such a node    v, then there is no cycle.\n",
    "7. After having visited all neighbor nodes v we color node u “black”, indicating that we are finished with u and that we will leave it again."
   ]
  },
  {
   "cell_type": "code",
   "execution_count": 23,
   "metadata": {
    "collapsed": true
   },
   "outputs": [],
   "source": [
    "def cycle_exists(G):                     # - G is a directed graph\n",
    "    color = { u : \"white\" for u in G  }  # - All nodes are initially white\n",
    "    found_cycle = [False]                # - Define found_cycle as a list so we can change its value per reference,\n",
    "    \n",
    "    for u in G:                          # - Visit all nodes.\n",
    "        if color[u] == \"white\":\n",
    "            dfs_visit(G, u, color, found_cycle)\n",
    "        if found_cycle[0]:\n",
    "            break\n",
    "    return found_cycle[0]\n",
    " \n",
    "#-------\n",
    " \n",
    "def dfs_visit(G, u, color, found_cycle):\n",
    "    if found_cycle[0]:                          # - Stop dfs if cycle is found.\n",
    "        return\n",
    "    color[u] = \"gray\"                           # - Gray nodes are in the current path\n",
    "    for v in G[u]:                              # - Check neighbors, where G[u] is the adjacency list of u.\n",
    "        if color[v] == \"gray\":                  # - Case where a loop in the current path is present.  \n",
    "            found_cycle[0] = True       \n",
    "            return\n",
    "        if color[v] == \"white\":                 # - Call dfs_visit recursively.   \n",
    "            dfs_visit(G, v, color, found_cycle)\n",
    "    color[u] = \"black\"                          # - Mark node as done."
   ]
  },
  {
   "cell_type": "markdown",
   "metadata": {},
   "source": [
    "Returns True if there are cycles otherwise False."
   ]
  },
  {
   "cell_type": "code",
   "execution_count": 24,
   "metadata": {
    "collapsed": true
   },
   "outputs": [],
   "source": [
    "graph_example_1 = { 0 : [1],\n",
    "                    1 : [2],\n",
    "                    2 : [3],\n",
    "                    3 : [4],\n",
    "                    4 : [1] }"
   ]
  },
  {
   "cell_type": "code",
   "execution_count": 25,
   "metadata": {
    "collapsed": false
   },
   "outputs": [
    {
     "data": {
      "text/plain": [
       "True"
      ]
     },
     "execution_count": 25,
     "metadata": {},
     "output_type": "execute_result"
    }
   ],
   "source": [
    "cycle_exists(graph_example_1)"
   ]
  },
  {
   "cell_type": "code",
   "execution_count": 26,
   "metadata": {
    "collapsed": true
   },
   "outputs": [],
   "source": [
    "graph_example_2 = { 0 : [1, 2],\n",
    "                    1 : [2],\n",
    "                    2 : [] }"
   ]
  },
  {
   "cell_type": "code",
   "execution_count": 27,
   "metadata": {
    "collapsed": false
   },
   "outputs": [
    {
     "data": {
      "text/plain": [
       "False"
      ]
     },
     "execution_count": 27,
     "metadata": {},
     "output_type": "execute_result"
    }
   ],
   "source": [
    "cycle_exists(graph_example_2)"
   ]
  },
  {
   "cell_type": "code",
   "execution_count": null,
   "metadata": {
    "collapsed": true
   },
   "outputs": [],
   "source": []
  }
 ],
 "metadata": {
  "anaconda-cloud": {},
  "kernelspec": {
   "display_name": "Python [conda env:anaconda]",
   "language": "python",
   "name": "conda-env-anaconda-py"
  },
  "language_info": {
   "codemirror_mode": {
    "name": "ipython",
    "version": 2
   },
   "file_extension": ".py",
   "mimetype": "text/x-python",
   "name": "python",
   "nbconvert_exporter": "python",
   "pygments_lexer": "ipython2",
   "version": "2.7.3"
  }
 },
 "nbformat": 4,
 "nbformat_minor": 1
}
